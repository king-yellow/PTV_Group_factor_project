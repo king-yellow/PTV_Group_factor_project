{
 "cells": [
  {
   "cell_type": "code",
   "execution_count": 1,
   "metadata": {},
   "outputs": [],
   "source": [
    "import pandas as pd\n",
    "sheet= pd.read_excel(\"Portfolio.xlsx\")"
   ]
  },
  {
   "cell_type": "code",
   "execution_count": 2,
   "metadata": {},
   "outputs": [
    {
     "data": {
      "text/html": [
       "<div>\n",
       "<style scoped>\n",
       "    .dataframe tbody tr th:only-of-type {\n",
       "        vertical-align: middle;\n",
       "    }\n",
       "\n",
       "    .dataframe tbody tr th {\n",
       "        vertical-align: top;\n",
       "    }\n",
       "\n",
       "    .dataframe thead th {\n",
       "        text-align: right;\n",
       "    }\n",
       "</style>\n",
       "<table border=\"1\" class=\"dataframe\">\n",
       "  <thead>\n",
       "    <tr style=\"text-align: right;\">\n",
       "      <th></th>\n",
       "      <th>Date</th>\n",
       "      <th>Portfolio Value</th>\n",
       "      <th>Holding Period Yield</th>\n",
       "    </tr>\n",
       "  </thead>\n",
       "  <tbody>\n",
       "    <tr>\n",
       "      <td>0</td>\n",
       "      <td>20120301</td>\n",
       "      <td>100.000000</td>\n",
       "      <td>0.000000</td>\n",
       "    </tr>\n",
       "    <tr>\n",
       "      <td>1</td>\n",
       "      <td>20120405</td>\n",
       "      <td>92.828962</td>\n",
       "      <td>-0.071710</td>\n",
       "    </tr>\n",
       "    <tr>\n",
       "      <td>2</td>\n",
       "      <td>20120502</td>\n",
       "      <td>95.159654</td>\n",
       "      <td>0.025107</td>\n",
       "    </tr>\n",
       "    <tr>\n",
       "      <td>3</td>\n",
       "      <td>20120601</td>\n",
       "      <td>92.778299</td>\n",
       "      <td>-0.025025</td>\n",
       "    </tr>\n",
       "    <tr>\n",
       "      <td>4</td>\n",
       "      <td>20120702</td>\n",
       "      <td>96.267772</td>\n",
       "      <td>0.037611</td>\n",
       "    </tr>\n",
       "    <tr>\n",
       "      <td>...</td>\n",
       "      <td>...</td>\n",
       "      <td>...</td>\n",
       "      <td>...</td>\n",
       "    </tr>\n",
       "    <tr>\n",
       "      <td>89</td>\n",
       "      <td>20190801</td>\n",
       "      <td>374.826724</td>\n",
       "      <td>-0.011650</td>\n",
       "    </tr>\n",
       "    <tr>\n",
       "      <td>90</td>\n",
       "      <td>20190902</td>\n",
       "      <td>489.800117</td>\n",
       "      <td>0.306737</td>\n",
       "    </tr>\n",
       "    <tr>\n",
       "      <td>91</td>\n",
       "      <td>20191008</td>\n",
       "      <td>425.460843</td>\n",
       "      <td>-0.131358</td>\n",
       "    </tr>\n",
       "    <tr>\n",
       "      <td>92</td>\n",
       "      <td>20191101</td>\n",
       "      <td>406.015376</td>\n",
       "      <td>-0.045704</td>\n",
       "    </tr>\n",
       "    <tr>\n",
       "      <td>93</td>\n",
       "      <td>20191202</td>\n",
       "      <td>405.976746</td>\n",
       "      <td>-0.000095</td>\n",
       "    </tr>\n",
       "  </tbody>\n",
       "</table>\n",
       "<p>94 rows × 3 columns</p>\n",
       "</div>"
      ],
      "text/plain": [
       "        Date  Portfolio Value  Holding Period Yield\n",
       "0   20120301       100.000000              0.000000\n",
       "1   20120405        92.828962             -0.071710\n",
       "2   20120502        95.159654              0.025107\n",
       "3   20120601        92.778299             -0.025025\n",
       "4   20120702        96.267772              0.037611\n",
       "..       ...              ...                   ...\n",
       "89  20190801       374.826724             -0.011650\n",
       "90  20190902       489.800117              0.306737\n",
       "91  20191008       425.460843             -0.131358\n",
       "92  20191101       406.015376             -0.045704\n",
       "93  20191202       405.976746             -0.000095\n",
       "\n",
       "[94 rows x 3 columns]"
      ]
     },
     "execution_count": 2,
     "metadata": {},
     "output_type": "execute_result"
    }
   ],
   "source": [
    "sheet"
   ]
  },
  {
   "cell_type": "code",
   "execution_count": 3,
   "metadata": {},
   "outputs": [],
   "source": [
    "import tushare as ts\n",
    "import matplotlib.pyplot as plt \n",
    "import numpy as np\n",
    "\n",
    "token='afdb4bc7f87218403bc788b6f31f24d9f4505e38746eff8a44771719'\n",
    "pro= ts.pro_api(token)\n",
    "df=pro.index_daily(ts_code=\"000300.SH\", start_date='20050104')\n",
    "\n",
    "#603988.SH   \n",
    "\n",
    "#000016.SH   000300.SH    '20050104'\n",
    "\n",
    "\n",
    "C=df['close']\n",
    "C=np.array(C)\n",
    "J=[0]\n",
    "for i in range(1,len(C)+1):\n",
    "    j=C[-i]\n",
    "    J=np.vstack((J,j))\n",
    "J=J[1:]\n",
    "\n",
    "O=df['open']\n",
    "O=np.array(O)\n",
    "K=[0]\n",
    "for i in range(1,len(O)+1):\n",
    "    k=O[-i]\n",
    "    K=np.vstack((K,k))\n",
    "K=K[1:]\n",
    "\n",
    "L=df['low']\n",
    "L=np.array(L)\n",
    "M=[0]\n",
    "for i in range(1,len(L)+1):\n",
    "    m=L[-i]\n",
    "    M=np.vstack((M,m))\n",
    "M=M[1:]\n",
    "\n",
    "H=df['high']\n",
    "H=np.array(H)\n",
    "N=[0]\n",
    "for i in range(1,len(H)+1):\n",
    "    n=H[-i]\n",
    "    N=np.vstack((N,n))\n",
    "N=N[1:]\n",
    "\n",
    "T=df['trade_date']\n",
    "T=np.array(T)\n",
    "Q=[0]\n",
    "for i in range(1,len(T)+1):\n",
    "    q=T[-i]\n",
    "    Q=np.vstack((Q,q))\n",
    "Q=Q[1:]\n",
    "df=pd.DataFrame(df['ts_code'])\n",
    "\n",
    "df.insert(1,'date',Q) \n",
    "df.insert(2,'open',K)\n",
    "df.insert(3,'high',N)\n",
    "df.insert(4,'low',M)\n",
    "df.insert(5,'close',J)"
   ]
  },
  {
   "cell_type": "code",
   "execution_count": 4,
   "metadata": {},
   "outputs": [
    {
     "data": {
      "text/html": [
       "<div>\n",
       "<style scoped>\n",
       "    .dataframe tbody tr th:only-of-type {\n",
       "        vertical-align: middle;\n",
       "    }\n",
       "\n",
       "    .dataframe tbody tr th {\n",
       "        vertical-align: top;\n",
       "    }\n",
       "\n",
       "    .dataframe thead th {\n",
       "        text-align: right;\n",
       "    }\n",
       "</style>\n",
       "<table border=\"1\" class=\"dataframe\">\n",
       "  <thead>\n",
       "    <tr style=\"text-align: right;\">\n",
       "      <th></th>\n",
       "      <th>ts_code</th>\n",
       "      <th>date</th>\n",
       "      <th>open</th>\n",
       "      <th>high</th>\n",
       "      <th>low</th>\n",
       "      <th>close</th>\n",
       "    </tr>\n",
       "  </thead>\n",
       "  <tbody>\n",
       "    <tr>\n",
       "      <td>0</td>\n",
       "      <td>000300.SH</td>\n",
       "      <td>20050104</td>\n",
       "      <td>994.7690</td>\n",
       "      <td>994.7690</td>\n",
       "      <td>980.6580</td>\n",
       "      <td>982.7940</td>\n",
       "    </tr>\n",
       "    <tr>\n",
       "      <td>1</td>\n",
       "      <td>000300.SH</td>\n",
       "      <td>20050105</td>\n",
       "      <td>981.5770</td>\n",
       "      <td>997.3230</td>\n",
       "      <td>979.8770</td>\n",
       "      <td>992.5640</td>\n",
       "    </tr>\n",
       "    <tr>\n",
       "      <td>2</td>\n",
       "      <td>000300.SH</td>\n",
       "      <td>20050106</td>\n",
       "      <td>993.3310</td>\n",
       "      <td>993.7880</td>\n",
       "      <td>980.3300</td>\n",
       "      <td>983.1740</td>\n",
       "    </tr>\n",
       "    <tr>\n",
       "      <td>3</td>\n",
       "      <td>000300.SH</td>\n",
       "      <td>20050107</td>\n",
       "      <td>983.0450</td>\n",
       "      <td>995.7110</td>\n",
       "      <td>979.8120</td>\n",
       "      <td>983.9580</td>\n",
       "    </tr>\n",
       "    <tr>\n",
       "      <td>4</td>\n",
       "      <td>000300.SH</td>\n",
       "      <td>20050110</td>\n",
       "      <td>983.7600</td>\n",
       "      <td>993.9590</td>\n",
       "      <td>979.7890</td>\n",
       "      <td>993.8790</td>\n",
       "    </tr>\n",
       "    <tr>\n",
       "      <td>...</td>\n",
       "      <td>...</td>\n",
       "      <td>...</td>\n",
       "      <td>...</td>\n",
       "      <td>...</td>\n",
       "      <td>...</td>\n",
       "      <td>...</td>\n",
       "    </tr>\n",
       "    <tr>\n",
       "      <td>3699</td>\n",
       "      <td>000300.SH</td>\n",
       "      <td>20200325</td>\n",
       "      <td>3711.4753</td>\n",
       "      <td>3732.6536</td>\n",
       "      <td>3685.9942</td>\n",
       "      <td>3722.5181</td>\n",
       "    </tr>\n",
       "    <tr>\n",
       "      <td>3700</td>\n",
       "      <td>000300.SH</td>\n",
       "      <td>20200326</td>\n",
       "      <td>3692.6083</td>\n",
       "      <td>3736.2536</td>\n",
       "      <td>3681.2668</td>\n",
       "      <td>3698.0472</td>\n",
       "    </tr>\n",
       "    <tr>\n",
       "      <td>3701</td>\n",
       "      <td>000300.SH</td>\n",
       "      <td>20200327</td>\n",
       "      <td>3746.3914</td>\n",
       "      <td>3758.7827</td>\n",
       "      <td>3709.9213</td>\n",
       "      <td>3710.0605</td>\n",
       "    </tr>\n",
       "    <tr>\n",
       "      <td>3702</td>\n",
       "      <td>000300.SH</td>\n",
       "      <td>20200330</td>\n",
       "      <td>3657.4624</td>\n",
       "      <td>3690.6388</td>\n",
       "      <td>3637.5853</td>\n",
       "      <td>3674.1108</td>\n",
       "    </tr>\n",
       "    <tr>\n",
       "      <td>3703</td>\n",
       "      <td>000300.SH</td>\n",
       "      <td>20200331</td>\n",
       "      <td>3708.1404</td>\n",
       "      <td>3716.0707</td>\n",
       "      <td>3676.2024</td>\n",
       "      <td>3686.1551</td>\n",
       "    </tr>\n",
       "  </tbody>\n",
       "</table>\n",
       "<p>3704 rows × 6 columns</p>\n",
       "</div>"
      ],
      "text/plain": [
       "        ts_code      date       open       high        low      close\n",
       "0     000300.SH  20050104   994.7690   994.7690   980.6580   982.7940\n",
       "1     000300.SH  20050105   981.5770   997.3230   979.8770   992.5640\n",
       "2     000300.SH  20050106   993.3310   993.7880   980.3300   983.1740\n",
       "3     000300.SH  20050107   983.0450   995.7110   979.8120   983.9580\n",
       "4     000300.SH  20050110   983.7600   993.9590   979.7890   993.8790\n",
       "...         ...       ...        ...        ...        ...        ...\n",
       "3699  000300.SH  20200325  3711.4753  3732.6536  3685.9942  3722.5181\n",
       "3700  000300.SH  20200326  3692.6083  3736.2536  3681.2668  3698.0472\n",
       "3701  000300.SH  20200327  3746.3914  3758.7827  3709.9213  3710.0605\n",
       "3702  000300.SH  20200330  3657.4624  3690.6388  3637.5853  3674.1108\n",
       "3703  000300.SH  20200331  3708.1404  3716.0707  3676.2024  3686.1551\n",
       "\n",
       "[3704 rows x 6 columns]"
      ]
     },
     "execution_count": 4,
     "metadata": {},
     "output_type": "execute_result"
    }
   ],
   "source": [
    "df"
   ]
  },
  {
   "cell_type": "code",
   "execution_count": 5,
   "metadata": {},
   "outputs": [
    {
     "data": {
      "text/plain": [
       "3704"
      ]
     },
     "execution_count": 5,
     "metadata": {},
     "output_type": "execute_result"
    }
   ],
   "source": [
    "len(df)"
   ]
  },
  {
   "cell_type": "code",
   "execution_count": 6,
   "metadata": {},
   "outputs": [
    {
     "data": {
      "text/plain": [
       "[20050104]"
      ]
     },
     "execution_count": 6,
     "metadata": {},
     "output_type": "execute_result"
    }
   ],
   "source": [
    "[int(df[\"date\"][0])]"
   ]
  },
  {
   "cell_type": "code",
   "execution_count": 7,
   "metadata": {
    "scrolled": true
   },
   "outputs": [],
   "source": [
    "HS=[0]\n",
    "for i in sheet[\"Date\"]:\n",
    "    #print(i)\n",
    "    for j in range(len(df)):\n",
    "        if int(df[\"date\"][j])==i:\n",
    "            HS=np.vstack((HS,df[\"close\"][j]))\n",
    "            #print(df[\"close\"][j])\n"
   ]
  },
  {
   "cell_type": "code",
   "execution_count": 8,
   "metadata": {},
   "outputs": [],
   "source": [
    "HS=HS[1:]"
   ]
  },
  {
   "cell_type": "code",
   "execution_count": 9,
   "metadata": {},
   "outputs": [],
   "source": [
    "sheet.insert(2,'HS300',HS)"
   ]
  },
  {
   "cell_type": "code",
   "execution_count": 10,
   "metadata": {},
   "outputs": [],
   "source": [
    "zero=np.array([0])\n",
    "#print(zero.shape)\n",
    "\n",
    "\n",
    "rt=np.diff(np.array(sheet[\"HS300\"]))\n",
    "rt=np.hstack((zero,rt))\n",
    "rt=rt/np.array(sheet[\"HS300\"])\n",
    "sheet.insert(3,'HS300_return',rt)"
   ]
  },
  {
   "cell_type": "code",
   "execution_count": 11,
   "metadata": {},
   "outputs": [
    {
     "data": {
      "text/html": [
       "<div>\n",
       "<style scoped>\n",
       "    .dataframe tbody tr th:only-of-type {\n",
       "        vertical-align: middle;\n",
       "    }\n",
       "\n",
       "    .dataframe tbody tr th {\n",
       "        vertical-align: top;\n",
       "    }\n",
       "\n",
       "    .dataframe thead th {\n",
       "        text-align: right;\n",
       "    }\n",
       "</style>\n",
       "<table border=\"1\" class=\"dataframe\">\n",
       "  <thead>\n",
       "    <tr style=\"text-align: right;\">\n",
       "      <th></th>\n",
       "      <th>Date</th>\n",
       "      <th>Portfolio Value</th>\n",
       "      <th>HS300</th>\n",
       "      <th>HS300_return</th>\n",
       "      <th>Holding Period Yield</th>\n",
       "    </tr>\n",
       "  </thead>\n",
       "  <tbody>\n",
       "    <tr>\n",
       "      <td>0</td>\n",
       "      <td>20120301</td>\n",
       "      <td>100.000000</td>\n",
       "      <td>2633.3450</td>\n",
       "      <td>0.000000</td>\n",
       "      <td>0.000000</td>\n",
       "    </tr>\n",
       "    <tr>\n",
       "      <td>1</td>\n",
       "      <td>20120405</td>\n",
       "      <td>92.828962</td>\n",
       "      <td>2512.8320</td>\n",
       "      <td>-0.047959</td>\n",
       "      <td>-0.071710</td>\n",
       "    </tr>\n",
       "    <tr>\n",
       "      <td>2</td>\n",
       "      <td>20120502</td>\n",
       "      <td>95.159654</td>\n",
       "      <td>2683.4870</td>\n",
       "      <td>0.063594</td>\n",
       "      <td>0.025107</td>\n",
       "    </tr>\n",
       "    <tr>\n",
       "      <td>3</td>\n",
       "      <td>20120601</td>\n",
       "      <td>92.778299</td>\n",
       "      <td>2632.9980</td>\n",
       "      <td>-0.019175</td>\n",
       "      <td>-0.025025</td>\n",
       "    </tr>\n",
       "    <tr>\n",
       "      <td>4</td>\n",
       "      <td>20120702</td>\n",
       "      <td>96.267772</td>\n",
       "      <td>2465.2380</td>\n",
       "      <td>-0.068050</td>\n",
       "      <td>0.037611</td>\n",
       "    </tr>\n",
       "    <tr>\n",
       "      <td>...</td>\n",
       "      <td>...</td>\n",
       "      <td>...</td>\n",
       "      <td>...</td>\n",
       "      <td>...</td>\n",
       "      <td>...</td>\n",
       "    </tr>\n",
       "    <tr>\n",
       "      <td>89</td>\n",
       "      <td>20190801</td>\n",
       "      <td>374.826724</td>\n",
       "      <td>3803.4694</td>\n",
       "      <td>-0.034795</td>\n",
       "      <td>-0.011650</td>\n",
       "    </tr>\n",
       "    <tr>\n",
       "      <td>90</td>\n",
       "      <td>20190902</td>\n",
       "      <td>489.800117</td>\n",
       "      <td>3848.3198</td>\n",
       "      <td>0.011655</td>\n",
       "      <td>0.306737</td>\n",
       "    </tr>\n",
       "    <tr>\n",
       "      <td>91</td>\n",
       "      <td>20191008</td>\n",
       "      <td>425.460843</td>\n",
       "      <td>3837.6791</td>\n",
       "      <td>-0.002773</td>\n",
       "      <td>-0.131358</td>\n",
       "    </tr>\n",
       "    <tr>\n",
       "      <td>92</td>\n",
       "      <td>20191101</td>\n",
       "      <td>406.015376</td>\n",
       "      <td>3952.3872</td>\n",
       "      <td>0.029022</td>\n",
       "      <td>-0.045704</td>\n",
       "    </tr>\n",
       "    <tr>\n",
       "      <td>93</td>\n",
       "      <td>20191202</td>\n",
       "      <td>405.976746</td>\n",
       "      <td>3836.0589</td>\n",
       "      <td>-0.030325</td>\n",
       "      <td>-0.000095</td>\n",
       "    </tr>\n",
       "  </tbody>\n",
       "</table>\n",
       "<p>94 rows × 5 columns</p>\n",
       "</div>"
      ],
      "text/plain": [
       "        Date  Portfolio Value      HS300  HS300_return  Holding Period Yield\n",
       "0   20120301       100.000000  2633.3450      0.000000              0.000000\n",
       "1   20120405        92.828962  2512.8320     -0.047959             -0.071710\n",
       "2   20120502        95.159654  2683.4870      0.063594              0.025107\n",
       "3   20120601        92.778299  2632.9980     -0.019175             -0.025025\n",
       "4   20120702        96.267772  2465.2380     -0.068050              0.037611\n",
       "..       ...              ...        ...           ...                   ...\n",
       "89  20190801       374.826724  3803.4694     -0.034795             -0.011650\n",
       "90  20190902       489.800117  3848.3198      0.011655              0.306737\n",
       "91  20191008       425.460843  3837.6791     -0.002773             -0.131358\n",
       "92  20191101       406.015376  3952.3872      0.029022             -0.045704\n",
       "93  20191202       405.976746  3836.0589     -0.030325             -0.000095\n",
       "\n",
       "[94 rows x 5 columns]"
      ]
     },
     "execution_count": 11,
     "metadata": {},
     "output_type": "execute_result"
    }
   ],
   "source": [
    "sheet"
   ]
  },
  {
   "cell_type": "code",
   "execution_count": 12,
   "metadata": {},
   "outputs": [],
   "source": [
    "j=0\n",
    "J=[0]\n",
    "for i in sheet[\"HS300_return\"]:\n",
    "    j=j+i\n",
    "    J=np.vstack((J,j))\n",
    "J=J[1:]"
   ]
  },
  {
   "cell_type": "code",
   "execution_count": 13,
   "metadata": {},
   "outputs": [],
   "source": [
    "k=0\n",
    "K=[0]\n",
    "for i in sheet[\"Holding Period Yield\"]:\n",
    "    k=k+i\n",
    "    K=np.vstack((K,k))\n",
    "K=K[1:]"
   ]
  },
  {
   "cell_type": "code",
   "execution_count": 14,
   "metadata": {},
   "outputs": [
    {
     "data": {
      "text/plain": [
       "Text(0, 0.5, 'Accumulated return')"
      ]
     },
     "execution_count": 14,
     "metadata": {},
     "output_type": "execute_result"
    },
    {
     "data": {
      "image/png": "[encoded data removed]",
      "text/plain": [
       "<Figure size 1152x432 with 1 Axes>"
      ]
     },
     "metadata": {
      "needs_background": "light"
     },
     "output_type": "display_data"
    }
   ],
   "source": [
    "import matplotlib as mpl\n",
    "mpl.rcParams['figure.figsize'] = (16, 6) \n",
    "plt.plot(J,label='HS300 accumulated return')\n",
    "plt.plot(K,label='Portfolio accumulated return')\n",
    "plt.xlabel('Time: Month From 2012.03 To 2019.12')\n",
    "plt.ylabel('Accumulated return')\n"
   ]
  },
  {
   "cell_type": "code",
   "execution_count": 15,
   "metadata": {},
   "outputs": [
    {
     "data": {
      "text/plain": [
       "Text(0, 0.5, 'Accumulated return of Startegy via Long portfolio and Short HS300')"
      ]
     },
     "execution_count": 15,
     "metadata": {},
     "output_type": "execute_result"
    },
    {
     "data": {
      "image/png": "[encoded data removed]",
      "text/plain": [
       "<Figure size 1152x432 with 1 Axes>"
      ]
     },
     "metadata": {
      "needs_background": "light"
     },
     "output_type": "display_data"
    }
   ],
   "source": [
    "plt.plot(K-J)   #Startegy of Long portfolio and Short HS300\n",
    "plt.xlabel('Time: Month From 2012.03 To 2019.12')\n",
    "plt.ylabel('Accumulated return of Startegy via Long portfolio and Short HS300')"
   ]
  },
  {
   "cell_type": "code",
   "execution_count": 16,
   "metadata": {},
   "outputs": [
    {
     "name": "stdout",
     "output_type": "stream",
     "text": [
      "Annual return of HS300= [0.01956482]\n",
      "Annual return of Portfolio= [0.24576758]\n",
      "Annual return of Startegy of Long Portfolio and Short HS300= [0.22620277]\n"
     ]
    }
   ],
   "source": [
    "Year_return_HS300=J[-1]*12/len(J)\n",
    "Year_return_Portfolio=K[-1]*12/len(K)\n",
    "Year_return_Strategy=(K[-1]-J[-1])*12/len(K)\n",
    "\n",
    "print(\"Annual return of HS300=\",Year_return_HS300)\n",
    "print(\"Annual return of Portfolio=\",Year_return_Portfolio)\n",
    "print(\"Annual return of Startegy of Long Portfolio and Short HS300=\",Year_return_Strategy)"
   ]
  },
  {
   "cell_type": "code",
   "execution_count": 17,
   "metadata": {},
   "outputs": [
    {
     "name": "stdout",
     "output_type": "stream",
     "text": [
      "information ratio of Portfolio= [0.24083469]\n"
     ]
    }
   ],
   "source": [
    "#imformation ratio\n",
    "\n",
    "IF_Portfolio=((K[-1]/len(K))-(J[-1]/len(J)))/np.std(sheet[\"Holding Period Yield\"]-sheet[\"HS300_return\"])\n",
    "\n",
    "print(\"information ratio of Portfolio=\",IF_Portfolio)\n"
   ]
  },
  {
   "cell_type": "code",
   "execution_count": 18,
   "metadata": {},
   "outputs": [
    {
     "name": "stdout",
     "output_type": "stream",
     "text": [
      "Sharp ratio of Portfolio= [0.24083469]\n",
      "Sharp ratio of benchmark HS300= [-0.08608367]\n",
      "Sharp ratio of Startegy of Long Portfolio and Short HS300= [0.68674876]\n"
     ]
    }
   ],
   "source": [
    "#sharp ratio \n",
    "Rf=0.04         #suppose annual risk free rate is 0.04\n",
    "\n",
    "\n",
    "Sharp_Portfolio=((K[-1]/len(K)*12)-Rf)/(np.std(sheet[\"Holding Period Yield\"])*np.sqrt(12))\n",
    "\n",
    "Sharp_HS300=((J[-1]/len(J)*12)-Rf)/(np.std(sheet[\"HS300_return\"])*np.sqrt(12))\n",
    "\n",
    "Sharp_Startegy=((K[-1]-J[-1])/len(J)*12-Rf)/(np.std(sheet[\"Holding Period Yield\"]-sheet[\"HS300_return\"])*np.sqrt(12))\n",
    "\n",
    "print(\"Sharp ratio of Portfolio=\",IF_Portfolio)\n",
    "print(\"Sharp ratio of benchmark HS300=\",Sharp_HS300)\n",
    "print(\"Sharp ratio of Startegy of Long Portfolio and Short HS300=\",Sharp_Startegy)"
   ]
  },
  {
   "cell_type": "code",
   "execution_count": 19,
   "metadata": {},
   "outputs": [
    {
     "name": "stdout",
     "output_type": "stream",
     "text": [
      "Monthly Maximum drawdown of Portfolio= -0.233451901225402\n",
      "Monthly Maximum drawdown of HS300= -0.19579771128892506\n",
      "Monthly Maximum drawdown of Long Portfolio and Short HS300= -0.1849055793403728\n"
     ]
    }
   ],
   "source": [
    "# Monthly Maximum drawdown\n",
    "print(\"Monthly Maximum drawdown of Portfolio=\",min(sheet[\"Holding Period Yield\"]))\n",
    "print(\"Monthly Maximum drawdown of HS300=\",min(sheet[\"HS300_return\"]))\n",
    "print(\"Monthly Maximum drawdown of Long Portfolio and Short HS300=\",min(sheet[\"Holding Period Yield\"]-sheet[\"HS300_return\"]))"
   ]
  },
  {
   "cell_type": "code",
   "execution_count": null,
   "metadata": {},
   "outputs": [],
   "source": []
  },
  {
   "cell_type": "code",
   "execution_count": null,
   "metadata": {},
   "outputs": [],
   "source": []
  },
  {
   "cell_type": "code",
   "execution_count": null,
   "metadata": {},
   "outputs": [],
   "source": []
  },
  {
   "cell_type": "code",
   "execution_count": null,
   "metadata": {},
   "outputs": [],
   "source": []
  }
 ],
 "metadata": {
  "kernelspec": {
   "display_name": "Python 3",
   "language": "python",
   "name": "python3"
  },
  "language_info": {
   "codemirror_mode": {
    "name": "ipython",
    "version": 3
   },
   "file_extension": ".py",
   "mimetype": "text/x-python",
   "name": "python",
   "nbconvert_exporter": "python",
   "pygments_lexer": "ipython3",
   "version": "3.7.4"
  }
 },
 "nbformat": 4,
 "nbformat_minor": 2
}
